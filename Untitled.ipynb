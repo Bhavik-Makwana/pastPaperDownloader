{
 "cells": [
  {
   "cell_type": "code",
   "execution_count": 30,
   "metadata": {},
   "outputs": [
    {
     "name": "stdout",
     "output_type": "stream",
     "text": [
      "Page not found\n"
     ]
    }
   ],
   "source": [
    "import urllib.request\n",
    "import shutil\n",
    "# currently static url\n",
    "url = 'https://nexdus.leagueoflegends.com/wp-content/uploads/2017/10/VFX_Styleguide_final_public_hidpjqwx7lqyx0pjj3ss.pdf'\n",
    "# url = input(\"Please enter the url for the pdf: \")\n",
    "# creates a local pdf file in same directory as program\n",
    "#urllib.request.urlretrieve(url, 'file_name.pdf')\n",
    "\n",
    "# open for writing in binary mode \n",
    "# with as acts as a context manager for error handling\n",
    "x = url[url.rfind(\"/\")+1:]\n",
    "try:\n",
    "    with urllib.request.urlopen(url) as response, open(x, 'wb') as out_file:\n",
    "        shutil.copyfileobj(response, out_file)\n",
    "        print(\"success\")\n",
    "except urllib.error.URLError as err:\n",
    "    print(\"Page not found\")\n",
    "  "
   ]
  },
  {
   "cell_type": "code",
   "execution_count": null,
   "metadata": {},
   "outputs": [],
   "source": []
  },
  {
   "cell_type": "code",
   "execution_count": null,
   "metadata": {},
   "outputs": [],
   "source": []
  },
  {
   "cell_type": "code",
   "execution_count": null,
   "metadata": {},
   "outputs": [],
   "source": []
  }
 ],
 "metadata": {
  "kernelspec": {
   "display_name": "Python 3",
   "language": "python",
   "name": "python3"
  },
  "language_info": {
   "codemirror_mode": {
    "name": "ipython",
    "version": 3
   },
   "file_extension": ".py",
   "mimetype": "text/x-python",
   "name": "python",
   "nbconvert_exporter": "python",
   "pygments_lexer": "ipython3",
   "version": "3.5.2"
  }
 },
 "nbformat": 4,
 "nbformat_minor": 2
}
